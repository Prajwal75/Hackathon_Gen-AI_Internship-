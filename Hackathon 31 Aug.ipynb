{
 "cells": [
  {
   "cell_type": "code",
   "execution_count": 47,
   "id": "907885f1",
   "metadata": {},
   "outputs": [],
   "source": [
    "import numpy as np\n",
    "import pandas as pd\n",
    "import matplotlib.pyplot as plt\n",
    "import seaborn as sns\n",
    "import requests\n",
    "from bs4 import BeautifulSoup"
   ]
  },
  {
   "cell_type": "code",
   "execution_count": 13,
   "id": "702751dd",
   "metadata": {},
   "outputs": [],
   "source": [
    "movies = pd.read_csv(r\"C:\\Users\\p7522\\Downloads\\movie_data (1)\\movies.csv\")"
   ]
  },
  {
   "cell_type": "code",
   "execution_count": 15,
   "id": "7f19de75",
   "metadata": {},
   "outputs": [
    {
     "data": {
      "text/plain": [
       "(9742, 3)"
      ]
     },
     "execution_count": 15,
     "metadata": {},
     "output_type": "execute_result"
    }
   ],
   "source": [
    "movies.shape"
   ]
  },
  {
   "cell_type": "code",
   "execution_count": 16,
   "id": "6fb3a0eb",
   "metadata": {},
   "outputs": [],
   "source": [
    "rating = pd.read_csv(r\"C:\\Users\\p7522\\Downloads\\movie_data (1)\\ratings.csv\")"
   ]
  },
  {
   "cell_type": "code",
   "execution_count": 17,
   "id": "98127488",
   "metadata": {},
   "outputs": [
    {
     "data": {
      "text/plain": [
       "(100836, 4)"
      ]
     },
     "execution_count": 17,
     "metadata": {},
     "output_type": "execute_result"
    }
   ],
   "source": [
    "rating.shape"
   ]
  },
  {
   "cell_type": "code",
   "execution_count": 18,
   "id": "df8757ed",
   "metadata": {},
   "outputs": [
    {
     "data": {
      "text/html": [
       "<div>\n",
       "<style scoped>\n",
       "    .dataframe tbody tr th:only-of-type {\n",
       "        vertical-align: middle;\n",
       "    }\n",
       "\n",
       "    .dataframe tbody tr th {\n",
       "        vertical-align: top;\n",
       "    }\n",
       "\n",
       "    .dataframe thead th {\n",
       "        text-align: right;\n",
       "    }\n",
       "</style>\n",
       "<table border=\"1\" class=\"dataframe\">\n",
       "  <thead>\n",
       "    <tr style=\"text-align: right;\">\n",
       "      <th></th>\n",
       "      <th>userId</th>\n",
       "      <th>movieId</th>\n",
       "      <th>rating</th>\n",
       "      <th>timestamp</th>\n",
       "    </tr>\n",
       "  </thead>\n",
       "  <tbody>\n",
       "    <tr>\n",
       "      <th>0</th>\n",
       "      <td>1</td>\n",
       "      <td>1</td>\n",
       "      <td>4.0</td>\n",
       "      <td>964982703</td>\n",
       "    </tr>\n",
       "    <tr>\n",
       "      <th>1</th>\n",
       "      <td>1</td>\n",
       "      <td>3</td>\n",
       "      <td>4.0</td>\n",
       "      <td>964981247</td>\n",
       "    </tr>\n",
       "    <tr>\n",
       "      <th>2</th>\n",
       "      <td>1</td>\n",
       "      <td>6</td>\n",
       "      <td>4.0</td>\n",
       "      <td>964982224</td>\n",
       "    </tr>\n",
       "    <tr>\n",
       "      <th>3</th>\n",
       "      <td>1</td>\n",
       "      <td>47</td>\n",
       "      <td>5.0</td>\n",
       "      <td>964983815</td>\n",
       "    </tr>\n",
       "    <tr>\n",
       "      <th>4</th>\n",
       "      <td>1</td>\n",
       "      <td>50</td>\n",
       "      <td>5.0</td>\n",
       "      <td>964982931</td>\n",
       "    </tr>\n",
       "    <tr>\n",
       "      <th>...</th>\n",
       "      <td>...</td>\n",
       "      <td>...</td>\n",
       "      <td>...</td>\n",
       "      <td>...</td>\n",
       "    </tr>\n",
       "    <tr>\n",
       "      <th>100831</th>\n",
       "      <td>610</td>\n",
       "      <td>166534</td>\n",
       "      <td>4.0</td>\n",
       "      <td>1493848402</td>\n",
       "    </tr>\n",
       "    <tr>\n",
       "      <th>100832</th>\n",
       "      <td>610</td>\n",
       "      <td>168248</td>\n",
       "      <td>5.0</td>\n",
       "      <td>1493850091</td>\n",
       "    </tr>\n",
       "    <tr>\n",
       "      <th>100833</th>\n",
       "      <td>610</td>\n",
       "      <td>168250</td>\n",
       "      <td>5.0</td>\n",
       "      <td>1494273047</td>\n",
       "    </tr>\n",
       "    <tr>\n",
       "      <th>100834</th>\n",
       "      <td>610</td>\n",
       "      <td>168252</td>\n",
       "      <td>5.0</td>\n",
       "      <td>1493846352</td>\n",
       "    </tr>\n",
       "    <tr>\n",
       "      <th>100835</th>\n",
       "      <td>610</td>\n",
       "      <td>170875</td>\n",
       "      <td>3.0</td>\n",
       "      <td>1493846415</td>\n",
       "    </tr>\n",
       "  </tbody>\n",
       "</table>\n",
       "<p>100836 rows × 4 columns</p>\n",
       "</div>"
      ],
      "text/plain": [
       "        userId  movieId  rating   timestamp\n",
       "0            1        1     4.0   964982703\n",
       "1            1        3     4.0   964981247\n",
       "2            1        6     4.0   964982224\n",
       "3            1       47     5.0   964983815\n",
       "4            1       50     5.0   964982931\n",
       "...        ...      ...     ...         ...\n",
       "100831     610   166534     4.0  1493848402\n",
       "100832     610   168248     5.0  1493850091\n",
       "100833     610   168250     5.0  1494273047\n",
       "100834     610   168252     5.0  1493846352\n",
       "100835     610   170875     3.0  1493846415\n",
       "\n",
       "[100836 rows x 4 columns]"
      ]
     },
     "execution_count": 18,
     "metadata": {},
     "output_type": "execute_result"
    }
   ],
   "source": [
    "rating\n"
   ]
  },
  {
   "cell_type": "markdown",
   "id": "843a7afa",
   "metadata": {},
   "source": [
    "# How many unique \"userId\" are available in \"ratings.csv\"?\n"
   ]
  },
  {
   "cell_type": "code",
   "execution_count": 19,
   "id": "252a25d1",
   "metadata": {},
   "outputs": [
    {
     "data": {
      "text/plain": [
       "610"
      ]
     },
     "execution_count": 19,
     "metadata": {},
     "output_type": "execute_result"
    }
   ],
   "source": [
    "\n",
    "rating['userId'].nunique()"
   ]
  },
  {
   "cell_type": "markdown",
   "id": "d7469d77",
   "metadata": {},
   "source": [
    "# Which movie has recieved maximum number of user ratings?\n"
   ]
  },
  {
   "cell_type": "code",
   "execution_count": 20,
   "id": "e7e215df",
   "metadata": {},
   "outputs": [
    {
     "name": "stdout",
     "output_type": "stream",
     "text": [
      "The movie with the maximum number of user ratings is 'Forrest Gump (1994)' with 329 ratings.\n"
     ]
    }
   ],
   "source": [
    "\n",
    "ratings_count = rating.groupby('movieId').size().reset_index(name='rating_count')\n",
    "\n",
    "movie_ratings = pd.merge(ratings_count, df, on='movieId')\n",
    "\n",
    "\n",
    "max_rated_movie = movie_ratings.loc[movie_ratings['rating_count'].idxmax()]\n",
    "\n",
    "max_rated_movie_title = max_rated_movie['title']\n",
    "max_rated_movie_ratings = max_rated_movie['rating_count']\n",
    "\n",
    "print(f\"The movie with the maximum number of user ratings is '{max_rated_movie_title}' with {max_rated_movie_ratings} ratings.\")"
   ]
  },
  {
   "cell_type": "markdown",
   "id": "b2c897df",
   "metadata": {},
   "source": [
    "# Select all the correct tags submitted by users to \"Matrix, The (1999)\" movie?\n"
   ]
  },
  {
   "cell_type": "code",
   "execution_count": 24,
   "id": "a5bcc149",
   "metadata": {},
   "outputs": [],
   "source": [
    "\n",
    "tags = pd.read_csv(r\"C:\\Users\\p7522\\Downloads\\movie_data (1)\\tags.csv\")"
   ]
  },
  {
   "cell_type": "code",
   "execution_count": 25,
   "id": "2d9e5de2",
   "metadata": {},
   "outputs": [
    {
     "data": {
      "text/plain": [
       "(3683, 4)"
      ]
     },
     "execution_count": 25,
     "metadata": {},
     "output_type": "execute_result"
    }
   ],
   "source": [
    "tags.shape"
   ]
  },
  {
   "cell_type": "markdown",
   "id": "8aa0175f",
   "metadata": {},
   "source": [
    "# Select all the correct tags submitted by users to \"Matrix, The (1999)\" movie?\n"
   ]
  },
  {
   "cell_type": "code",
   "execution_count": 26,
   "id": "00c19daa",
   "metadata": {},
   "outputs": [
    {
     "name": "stdout",
     "output_type": "stream",
     "text": [
      "The tags submitted by users for 'Matrix, The (1999)' are:\n",
      "martial arts\n",
      "sci-fi\n",
      "alternate universe\n",
      "philosophy\n",
      "post apocalyptic\n"
     ]
    }
   ],
   "source": [
    "\n",
    "tags = pd.read_csv(r\"C:\\Users\\p7522\\Downloads\\movie_data (1)\\tags.csv\")\n",
    "\n",
    "# Merge the tags dataset with the movies dataset to get movie titles\n",
    "movie_tags = pd.merge(tags, movies, on='movieId')\n",
    "\n",
    "# Filter tags for the movie \"Matrix, The (1999)\"\n",
    "matrix_tags = movie_tags[movie_tags['title'] == \"Matrix, The (1999)\"]\n",
    "\n",
    "# Get unique tags submitted by users\n",
    "unique_tags = matrix_tags['tag'].unique()\n",
    "\n",
    "print(\"The tags submitted by users for 'Matrix, The (1999)' are:\")\n",
    "for tag in unique_tags:\n",
    "    print(tag)"
   ]
  },
  {
   "cell_type": "markdown",
   "id": "e6af18b6",
   "metadata": {},
   "source": [
    "# What is the average user rating for movie named \"Terminator 2: Judgment Day (1991)\"\n"
   ]
  },
  {
   "cell_type": "code",
   "execution_count": 27,
   "id": "8e095ecc",
   "metadata": {},
   "outputs": [
    {
     "name": "stdout",
     "output_type": "stream",
     "text": [
      "The average user rating for 'Terminator 2: Judgment Day (1991)' is 3.97.\n"
     ]
    }
   ],
   "source": [
    "\n",
    "\n",
    "# Merge the ratings dataset with the movies dataset to get movie titles\n",
    "movie_ratings = pd.merge(rating, movies, on='movieId')\n",
    "\n",
    "# Filter ratings for the movie \"Terminator 2: Judgment Day (1991)\"\n",
    "terminator_ratings = movie_ratings[movie_ratings['title'] == \"Terminator 2: Judgment Day (1991)\"]\n",
    "\n",
    "# Calculate the average rating\n",
    "average_rating = terminator_ratings['rating'].mean()\n",
    "\n",
    "print(f\"The average user rating for 'Terminator 2: Judgment Day (1991)' is {average_rating:.2f}.\")\n"
   ]
  },
  {
   "cell_type": "markdown",
   "id": "36e85a72",
   "metadata": {},
   "source": [
    "# How does the data distribution of user ratings for \"Fight Club (1999)\" movie looks like?\n"
   ]
  },
  {
   "cell_type": "code",
   "execution_count": 28,
   "id": "338bb736",
   "metadata": {},
   "outputs": [
    {
     "data": {
      "image/png": "[encoded data removed]",
      "text/plain": [
       "<Figure size 1000x600 with 1 Axes>"
      ]
     },
     "metadata": {},
     "output_type": "display_data"
    }
   ],
   "source": [
    "\n",
    "import matplotlib.pyplot as plt\n",
    "\n",
    "# Merge the ratings dataset with the movies dataset to get movie titles\n",
    "movie_ratings = pd.merge(rating, movies, on='movieId')\n",
    "\n",
    "# Filter ratings for the movie \"Fight Club (1999)\"\n",
    "fight_club_ratings = movie_ratings[movie_ratings['title'] == \"Fight Club (1999)\"]\n",
    "\n",
    "# Plot the distribution of user ratings\n",
    "plt.figure(figsize=(10, 6))\n",
    "plt.hist(fight_club_ratings['rating'], bins=range(1, 7), edgecolor='black', alpha=0.7)\n",
    "plt.title(\"Distribution of User Ratings for 'Fight Club (1999)'\")\n",
    "plt.xlabel(\"Rating\")\n",
    "plt.ylabel(\"Frequency\")\n",
    "plt.xticks(range(1, 6))  # Ratings typically range from 1 to 5\n",
    "plt.grid(axis='y', linestyle='--', alpha=0.7)\n",
    "\n",
    "# Show the plot\n",
    "plt.show()\n"
   ]
  },
  {
   "cell_type": "markdown",
   "id": "e3d07e17",
   "metadata": {},
   "source": [
    "# Which movie is the most popular based on  average user ratings?\n"
   ]
  },
  {
   "cell_type": "code",
   "execution_count": 29,
   "id": "1273c5af",
   "metadata": {},
   "outputs": [
    {
     "name": "stdout",
     "output_type": "stream",
     "text": [
      "The most popular movie based on average user ratings is 'Shawshank Redemption, The (1994)' with an average rating of 4.43.\n"
     ]
    }
   ],
   "source": [
    "\n",
    "\n",
    "# Merge the ratings dataset with the movies dataset to get movie titles\n",
    "movie_ratings = pd.merge(rating, movies, on='movieId')\n",
    "\n",
    "# List of movies to check\n",
    "movies_of_interest = [\n",
    "    \"Godfather, The (1972)\",\n",
    "    \"Shawshank Redemption, The (1994)\",\n",
    "    \"Jumanji (1995)\",\n",
    "    \"Wolf of Wall Street, The (2013)\"\n",
    "]\n",
    "\n",
    "# Filter for the specified movies\n",
    "filtered_ratings = movie_ratings[movie_ratings['title'].isin(movies_of_interest)]\n",
    "\n",
    "# Calculate the average rating for each movie\n",
    "average_ratings = filtered_ratings.groupby('title')['rating'].mean().reset_index()\n",
    "\n",
    "# Find the movie with the highest average rating\n",
    "most_popular_movie = average_ratings.loc[average_ratings['rating'].idxmax()]\n",
    "\n",
    "# Display the result\n",
    "most_popular_movie_title = most_popular_movie['title']\n",
    "most_popular_movie_rating = most_popular_movie['rating']\n",
    "\n",
    "print(f\"The most popular movie based on average user ratings is '{most_popular_movie_title}' with an average rating of {most_popular_movie_rating:.2f}.\")\n"
   ]
  },
  {
   "cell_type": "markdown",
   "id": "84b464b5",
   "metadata": {},
   "source": [
    "# Select all the correct options which comes under top 5 popular movies based on number of user ratings\n"
   ]
  },
  {
   "cell_type": "code",
   "execution_count": 30,
   "id": "5955e2f0",
   "metadata": {},
   "outputs": [
    {
     "name": "stdout",
     "output_type": "stream",
     "text": [
      "The movies from the list that are among the top 5 popular movies based on the number of user ratings are:\n",
      "Pulp Fiction (1994)\n",
      "Silence of the Lambs, The (1991)\n",
      "Matrix, The (1999)\n"
     ]
    }
   ],
   "source": [
    "\n",
    "# Merge the ratings dataset with the movies dataset to get movie titles\n",
    "movie_ratings = pd.merge(rating, movies, on='movieId')\n",
    "\n",
    "# Aggregate the number of ratings per movie\n",
    "ratings_count = movie_ratings.groupby('title').size().reset_index(name='rating_count')\n",
    "\n",
    "# Find the top 5 movies based on number of ratings\n",
    "top_5_movies = ratings_count.nlargest(5, 'rating_count')\n",
    "\n",
    "# List of movies to check\n",
    "movies_of_interest = [\n",
    "    \"Pulp Fiction (1994)\",\n",
    "    \"Bad Boys (1995)\",\n",
    "    \"Silence of the Lambs, The (1991)\",\n",
    "    \"Matrix, The (1999)\"\n",
    "]\n",
    "\n",
    "# Check which of the movies of interest are in the top 5\n",
    "top_movies_of_interest = top_5_movies[top_5_movies['title'].isin(movies_of_interest)]\n",
    "\n",
    "# Display the result\n",
    "top_movies_of_interest_list = top_movies_of_interest['title'].tolist()\n",
    "\n",
    "print(\"The movies from the list that are among the top 5 popular movies based on the number of user ratings are:\")\n",
    "for movie in top_movies_of_interest_list:\n",
    "    print(movie)"
   ]
  },
  {
   "cell_type": "markdown",
   "id": "cbdee012",
   "metadata": {},
   "source": [
    "# Which Sci-Fi movie is \"third most popular\" based on the number of user ratings?\n"
   ]
  },
  {
   "cell_type": "code",
   "execution_count": 31,
   "id": "37866e77",
   "metadata": {},
   "outputs": [
    {
     "name": "stdout",
     "output_type": "stream",
     "text": [
      "The third most popular Sci-Fi movie based on the number of user ratings is 'Jurassic Park (1993)' with 238 ratings.\n"
     ]
    }
   ],
   "source": [
    "\n",
    "# Merge the ratings dataset with the movies dataset to get movie titles\n",
    "movie_ratings = pd.merge(rating, movies, on='movieId')\n",
    "\n",
    "# Filter for Sci-Fi movies\n",
    "sci_fi_movies = movies[movies['genres'].str.contains('Sci-Fi', case=False)]\n",
    "\n",
    "# Merge the filtered Sci-Fi movies with the ratings dataset\n",
    "sci_fi_ratings = pd.merge(rating, sci_fi_movies, on='movieId')\n",
    "\n",
    "# Aggregate the number of ratings per Sci-Fi movie\n",
    "ratings_count_sci_fi = sci_fi_ratings.groupby('title').size().reset_index(name='rating_count')\n",
    "\n",
    "# Sort the Sci-Fi movies by number of ratings in descending order\n",
    "sorted_sci_fi_movies = ratings_count_sci_fi.sort_values(by='rating_count', ascending=False)\n",
    "\n",
    "# Find the third most popular Sci-Fi movie\n",
    "third_most_popular_sci_fi = sorted_sci_fi_movies.iloc[2]  # index 2 corresponds to the third entry\n",
    "\n",
    "# Display the result\n",
    "third_most_popular_movie_title = third_most_popular_sci_fi['title']\n",
    "third_most_popular_movie_rating_count = third_most_popular_sci_fi['rating_count']\n",
    "\n",
    "print(f\"The third most popular Sci-Fi movie based on the number of user ratings is '{third_most_popular_movie_title}' with {third_most_popular_movie_rating_count} ratings.\")"
   ]
  },
  {
   "cell_type": "code",
   "execution_count": 51,
   "id": "dd4415af",
   "metadata": {},
   "outputs": [],
   "source": [
    "links = pd.read_csv(r\"C:\\Users\\p7522\\Downloads\\movie_data (1)\\links.csv\")"
   ]
  },
  {
   "cell_type": "code",
   "execution_count": 52,
   "id": "96904f8a",
   "metadata": {},
   "outputs": [
    {
     "data": {
      "text/html": [
       "<div>\n",
       "<style scoped>\n",
       "    .dataframe tbody tr th:only-of-type {\n",
       "        vertical-align: middle;\n",
       "    }\n",
       "\n",
       "    .dataframe tbody tr th {\n",
       "        vertical-align: top;\n",
       "    }\n",
       "\n",
       "    .dataframe thead th {\n",
       "        text-align: right;\n",
       "    }\n",
       "</style>\n",
       "<table border=\"1\" class=\"dataframe\">\n",
       "  <thead>\n",
       "    <tr style=\"text-align: right;\">\n",
       "      <th></th>\n",
       "      <th>movieId</th>\n",
       "      <th>imdbId</th>\n",
       "      <th>tmdbId</th>\n",
       "    </tr>\n",
       "  </thead>\n",
       "  <tbody>\n",
       "    <tr>\n",
       "      <th>0</th>\n",
       "      <td>1</td>\n",
       "      <td>114709</td>\n",
       "      <td>862.0</td>\n",
       "    </tr>\n",
       "    <tr>\n",
       "      <th>1</th>\n",
       "      <td>2</td>\n",
       "      <td>113497</td>\n",
       "      <td>8844.0</td>\n",
       "    </tr>\n",
       "    <tr>\n",
       "      <th>2</th>\n",
       "      <td>3</td>\n",
       "      <td>113228</td>\n",
       "      <td>15602.0</td>\n",
       "    </tr>\n",
       "    <tr>\n",
       "      <th>3</th>\n",
       "      <td>4</td>\n",
       "      <td>114885</td>\n",
       "      <td>31357.0</td>\n",
       "    </tr>\n",
       "    <tr>\n",
       "      <th>4</th>\n",
       "      <td>5</td>\n",
       "      <td>113041</td>\n",
       "      <td>11862.0</td>\n",
       "    </tr>\n",
       "  </tbody>\n",
       "</table>\n",
       "</div>"
      ],
      "text/plain": [
       "   movieId  imdbId   tmdbId\n",
       "0        1  114709    862.0\n",
       "1        2  113497   8844.0\n",
       "2        3  113228  15602.0\n",
       "3        4  114885  31357.0\n",
       "4        5  113041  11862.0"
      ]
     },
     "execution_count": 52,
     "metadata": {},
     "output_type": "execute_result"
    }
   ],
   "source": [
    "links.head()"
   ]
  },
  {
   "cell_type": "code",
   "execution_count": 53,
   "id": "d7029b41",
   "metadata": {},
   "outputs": [
    {
     "data": {
      "text/plain": [
       "(9742, 3)"
      ]
     },
     "execution_count": 53,
     "metadata": {},
     "output_type": "execute_result"
    }
   ],
   "source": [
    "links.shape"
   ]
  },
  {
   "cell_type": "code",
   "execution_count": 54,
   "id": "a1c1ec11",
   "metadata": {},
   "outputs": [],
   "source": [
    "grouped_ratings = rating.groupby('movieId').agg(rating_count=('rating', 'count'),\n",
    "                                                 average_rating=('rating', 'mean')).reset_index()"
   ]
  },
  {
   "cell_type": "code",
   "execution_count": 55,
   "id": "162888ff",
   "metadata": {},
   "outputs": [
    {
     "data": {
      "text/html": [
       "<div>\n",
       "<style scoped>\n",
       "    .dataframe tbody tr th:only-of-type {\n",
       "        vertical-align: middle;\n",
       "    }\n",
       "\n",
       "    .dataframe tbody tr th {\n",
       "        vertical-align: top;\n",
       "    }\n",
       "\n",
       "    .dataframe thead th {\n",
       "        text-align: right;\n",
       "    }\n",
       "</style>\n",
       "<table border=\"1\" class=\"dataframe\">\n",
       "  <thead>\n",
       "    <tr style=\"text-align: right;\">\n",
       "      <th></th>\n",
       "      <th>movieId</th>\n",
       "      <th>rating_count</th>\n",
       "      <th>average_rating</th>\n",
       "    </tr>\n",
       "  </thead>\n",
       "  <tbody>\n",
       "    <tr>\n",
       "      <th>0</th>\n",
       "      <td>1</td>\n",
       "      <td>215</td>\n",
       "      <td>3.920930</td>\n",
       "    </tr>\n",
       "    <tr>\n",
       "      <th>1</th>\n",
       "      <td>2</td>\n",
       "      <td>110</td>\n",
       "      <td>3.431818</td>\n",
       "    </tr>\n",
       "    <tr>\n",
       "      <th>2</th>\n",
       "      <td>3</td>\n",
       "      <td>52</td>\n",
       "      <td>3.259615</td>\n",
       "    </tr>\n",
       "    <tr>\n",
       "      <th>3</th>\n",
       "      <td>4</td>\n",
       "      <td>7</td>\n",
       "      <td>2.357143</td>\n",
       "    </tr>\n",
       "    <tr>\n",
       "      <th>4</th>\n",
       "      <td>5</td>\n",
       "      <td>49</td>\n",
       "      <td>3.071429</td>\n",
       "    </tr>\n",
       "    <tr>\n",
       "      <th>...</th>\n",
       "      <td>...</td>\n",
       "      <td>...</td>\n",
       "      <td>...</td>\n",
       "    </tr>\n",
       "    <tr>\n",
       "      <th>9719</th>\n",
       "      <td>193581</td>\n",
       "      <td>1</td>\n",
       "      <td>4.000000</td>\n",
       "    </tr>\n",
       "    <tr>\n",
       "      <th>9720</th>\n",
       "      <td>193583</td>\n",
       "      <td>1</td>\n",
       "      <td>3.500000</td>\n",
       "    </tr>\n",
       "    <tr>\n",
       "      <th>9721</th>\n",
       "      <td>193585</td>\n",
       "      <td>1</td>\n",
       "      <td>3.500000</td>\n",
       "    </tr>\n",
       "    <tr>\n",
       "      <th>9722</th>\n",
       "      <td>193587</td>\n",
       "      <td>1</td>\n",
       "      <td>3.500000</td>\n",
       "    </tr>\n",
       "    <tr>\n",
       "      <th>9723</th>\n",
       "      <td>193609</td>\n",
       "      <td>1</td>\n",
       "      <td>4.000000</td>\n",
       "    </tr>\n",
       "  </tbody>\n",
       "</table>\n",
       "<p>9724 rows × 3 columns</p>\n",
       "</div>"
      ],
      "text/plain": [
       "      movieId  rating_count  average_rating\n",
       "0           1           215        3.920930\n",
       "1           2           110        3.431818\n",
       "2           3            52        3.259615\n",
       "3           4             7        2.357143\n",
       "4           5            49        3.071429\n",
       "...       ...           ...             ...\n",
       "9719   193581             1        4.000000\n",
       "9720   193583             1        3.500000\n",
       "9721   193585             1        3.500000\n",
       "9722   193587             1        3.500000\n",
       "9723   193609             1        4.000000\n",
       "\n",
       "[9724 rows x 3 columns]"
      ]
     },
     "execution_count": 55,
     "metadata": {},
     "output_type": "execute_result"
    }
   ],
   "source": [
    "grouped_ratings\n"
   ]
  },
  {
   "cell_type": "code",
   "execution_count": 56,
   "id": "f8792064",
   "metadata": {},
   "outputs": [
    {
     "data": {
      "text/html": [
       "<div>\n",
       "<style scoped>\n",
       "    .dataframe tbody tr th:only-of-type {\n",
       "        vertical-align: middle;\n",
       "    }\n",
       "\n",
       "    .dataframe tbody tr th {\n",
       "        vertical-align: top;\n",
       "    }\n",
       "\n",
       "    .dataframe thead th {\n",
       "        text-align: right;\n",
       "    }\n",
       "</style>\n",
       "<table border=\"1\" class=\"dataframe\">\n",
       "  <thead>\n",
       "    <tr style=\"text-align: right;\">\n",
       "      <th></th>\n",
       "      <th>movieId</th>\n",
       "      <th>title</th>\n",
       "      <th>genres</th>\n",
       "      <th>rating_count</th>\n",
       "      <th>average_rating</th>\n",
       "    </tr>\n",
       "  </thead>\n",
       "  <tbody>\n",
       "    <tr>\n",
       "      <th>0</th>\n",
       "      <td>1</td>\n",
       "      <td>Toy Story (1995)</td>\n",
       "      <td>Adventure|Animation|Children|Comedy|Fantasy</td>\n",
       "      <td>215</td>\n",
       "      <td>3.920930</td>\n",
       "    </tr>\n",
       "    <tr>\n",
       "      <th>1</th>\n",
       "      <td>2</td>\n",
       "      <td>Jumanji (1995)</td>\n",
       "      <td>Adventure|Children|Fantasy</td>\n",
       "      <td>110</td>\n",
       "      <td>3.431818</td>\n",
       "    </tr>\n",
       "    <tr>\n",
       "      <th>2</th>\n",
       "      <td>3</td>\n",
       "      <td>Grumpier Old Men (1995)</td>\n",
       "      <td>Comedy|Romance</td>\n",
       "      <td>52</td>\n",
       "      <td>3.259615</td>\n",
       "    </tr>\n",
       "    <tr>\n",
       "      <th>3</th>\n",
       "      <td>4</td>\n",
       "      <td>Waiting to Exhale (1995)</td>\n",
       "      <td>Comedy|Drama|Romance</td>\n",
       "      <td>7</td>\n",
       "      <td>2.357143</td>\n",
       "    </tr>\n",
       "    <tr>\n",
       "      <th>4</th>\n",
       "      <td>5</td>\n",
       "      <td>Father of the Bride Part II (1995)</td>\n",
       "      <td>Comedy</td>\n",
       "      <td>49</td>\n",
       "      <td>3.071429</td>\n",
       "    </tr>\n",
       "  </tbody>\n",
       "</table>\n",
       "</div>"
      ],
      "text/plain": [
       "   movieId                               title  \\\n",
       "0        1                    Toy Story (1995)   \n",
       "1        2                      Jumanji (1995)   \n",
       "2        3             Grumpier Old Men (1995)   \n",
       "3        4            Waiting to Exhale (1995)   \n",
       "4        5  Father of the Bride Part II (1995)   \n",
       "\n",
       "                                        genres  rating_count  average_rating  \n",
       "0  Adventure|Animation|Children|Comedy|Fantasy           215        3.920930  \n",
       "1                   Adventure|Children|Fantasy           110        3.431818  \n",
       "2                               Comedy|Romance            52        3.259615  \n",
       "3                         Comedy|Drama|Romance             7        2.357143  \n",
       "4                                       Comedy            49        3.071429  "
      ]
     },
     "execution_count": 56,
     "metadata": {},
     "output_type": "execute_result"
    }
   ],
   "source": [
    "merged_df = pd.merge(movies, grouped_ratings, on='movieId')\n",
    "merged_df.head()"
   ]
  },
  {
   "cell_type": "code",
   "execution_count": 57,
   "id": "788a29c2",
   "metadata": {},
   "outputs": [
    {
     "data": {
      "text/html": [
       "<div>\n",
       "<style scoped>\n",
       "    .dataframe tbody tr th:only-of-type {\n",
       "        vertical-align: middle;\n",
       "    }\n",
       "\n",
       "    .dataframe tbody tr th {\n",
       "        vertical-align: top;\n",
       "    }\n",
       "\n",
       "    .dataframe thead th {\n",
       "        text-align: right;\n",
       "    }\n",
       "</style>\n",
       "<table border=\"1\" class=\"dataframe\">\n",
       "  <thead>\n",
       "    <tr style=\"text-align: right;\">\n",
       "      <th></th>\n",
       "      <th>movieId</th>\n",
       "      <th>title</th>\n",
       "      <th>genres</th>\n",
       "      <th>rating_count</th>\n",
       "      <th>average_rating</th>\n",
       "    </tr>\n",
       "  </thead>\n",
       "  <tbody>\n",
       "    <tr>\n",
       "      <th>0</th>\n",
       "      <td>1</td>\n",
       "      <td>Toy Story (1995)</td>\n",
       "      <td>Adventure|Animation|Children|Comedy|Fantasy</td>\n",
       "      <td>215</td>\n",
       "      <td>3.920930</td>\n",
       "    </tr>\n",
       "    <tr>\n",
       "      <th>1</th>\n",
       "      <td>2</td>\n",
       "      <td>Jumanji (1995)</td>\n",
       "      <td>Adventure|Children|Fantasy</td>\n",
       "      <td>110</td>\n",
       "      <td>3.431818</td>\n",
       "    </tr>\n",
       "    <tr>\n",
       "      <th>2</th>\n",
       "      <td>3</td>\n",
       "      <td>Grumpier Old Men (1995)</td>\n",
       "      <td>Comedy|Romance</td>\n",
       "      <td>52</td>\n",
       "      <td>3.259615</td>\n",
       "    </tr>\n",
       "    <tr>\n",
       "      <th>5</th>\n",
       "      <td>6</td>\n",
       "      <td>Heat (1995)</td>\n",
       "      <td>Action|Crime|Thriller</td>\n",
       "      <td>102</td>\n",
       "      <td>3.946078</td>\n",
       "    </tr>\n",
       "    <tr>\n",
       "      <th>6</th>\n",
       "      <td>7</td>\n",
       "      <td>Sabrina (1995)</td>\n",
       "      <td>Comedy|Romance</td>\n",
       "      <td>54</td>\n",
       "      <td>3.185185</td>\n",
       "    </tr>\n",
       "  </tbody>\n",
       "</table>\n",
       "</div>"
      ],
      "text/plain": [
       "   movieId                    title  \\\n",
       "0        1         Toy Story (1995)   \n",
       "1        2           Jumanji (1995)   \n",
       "2        3  Grumpier Old Men (1995)   \n",
       "5        6              Heat (1995)   \n",
       "6        7           Sabrina (1995)   \n",
       "\n",
       "                                        genres  rating_count  average_rating  \n",
       "0  Adventure|Animation|Children|Comedy|Fantasy           215        3.920930  \n",
       "1                   Adventure|Children|Fantasy           110        3.431818  \n",
       "2                               Comedy|Romance            52        3.259615  \n",
       "5                        Action|Crime|Thriller           102        3.946078  \n",
       "6                               Comedy|Romance            54        3.185185  "
      ]
     },
     "execution_count": 57,
     "metadata": {},
     "output_type": "execute_result"
    }
   ],
   "source": [
    "popular_movies = merged_df[merged_df['rating_count'] > 50]\n",
    "popular_movies.head()"
   ]
  },
  {
   "cell_type": "code",
   "execution_count": 58,
   "id": "c1e49e65",
   "metadata": {},
   "outputs": [
    {
     "data": {
      "text/html": [
       "<div>\n",
       "<style scoped>\n",
       "    .dataframe tbody tr th:only-of-type {\n",
       "        vertical-align: middle;\n",
       "    }\n",
       "\n",
       "    .dataframe tbody tr th {\n",
       "        vertical-align: top;\n",
       "    }\n",
       "\n",
       "    .dataframe thead th {\n",
       "        text-align: right;\n",
       "    }\n",
       "</style>\n",
       "<table border=\"1\" class=\"dataframe\">\n",
       "  <thead>\n",
       "    <tr style=\"text-align: right;\">\n",
       "      <th></th>\n",
       "      <th>movieId</th>\n",
       "      <th>title</th>\n",
       "      <th>genres</th>\n",
       "      <th>rating_count</th>\n",
       "      <th>average_rating</th>\n",
       "      <th>imdbId</th>\n",
       "      <th>tmdbId</th>\n",
       "    </tr>\n",
       "  </thead>\n",
       "  <tbody>\n",
       "    <tr>\n",
       "      <th>0</th>\n",
       "      <td>1</td>\n",
       "      <td>Toy Story (1995)</td>\n",
       "      <td>Adventure|Animation|Children|Comedy|Fantasy</td>\n",
       "      <td>215</td>\n",
       "      <td>3.920930</td>\n",
       "      <td>114709</td>\n",
       "      <td>862.0</td>\n",
       "    </tr>\n",
       "    <tr>\n",
       "      <th>1</th>\n",
       "      <td>2</td>\n",
       "      <td>Jumanji (1995)</td>\n",
       "      <td>Adventure|Children|Fantasy</td>\n",
       "      <td>110</td>\n",
       "      <td>3.431818</td>\n",
       "      <td>113497</td>\n",
       "      <td>8844.0</td>\n",
       "    </tr>\n",
       "    <tr>\n",
       "      <th>2</th>\n",
       "      <td>3</td>\n",
       "      <td>Grumpier Old Men (1995)</td>\n",
       "      <td>Comedy|Romance</td>\n",
       "      <td>52</td>\n",
       "      <td>3.259615</td>\n",
       "      <td>113228</td>\n",
       "      <td>15602.0</td>\n",
       "    </tr>\n",
       "    <tr>\n",
       "      <th>3</th>\n",
       "      <td>6</td>\n",
       "      <td>Heat (1995)</td>\n",
       "      <td>Action|Crime|Thriller</td>\n",
       "      <td>102</td>\n",
       "      <td>3.946078</td>\n",
       "      <td>113277</td>\n",
       "      <td>949.0</td>\n",
       "    </tr>\n",
       "    <tr>\n",
       "      <th>4</th>\n",
       "      <td>7</td>\n",
       "      <td>Sabrina (1995)</td>\n",
       "      <td>Comedy|Romance</td>\n",
       "      <td>54</td>\n",
       "      <td>3.185185</td>\n",
       "      <td>114319</td>\n",
       "      <td>11860.0</td>\n",
       "    </tr>\n",
       "  </tbody>\n",
       "</table>\n",
       "</div>"
      ],
      "text/plain": [
       "   movieId                    title  \\\n",
       "0        1         Toy Story (1995)   \n",
       "1        2           Jumanji (1995)   \n",
       "2        3  Grumpier Old Men (1995)   \n",
       "3        6              Heat (1995)   \n",
       "4        7           Sabrina (1995)   \n",
       "\n",
       "                                        genres  rating_count  average_rating  \\\n",
       "0  Adventure|Animation|Children|Comedy|Fantasy           215        3.920930   \n",
       "1                   Adventure|Children|Fantasy           110        3.431818   \n",
       "2                               Comedy|Romance            52        3.259615   \n",
       "3                        Action|Crime|Thriller           102        3.946078   \n",
       "4                               Comedy|Romance            54        3.185185   \n",
       "\n",
       "   imdbId   tmdbId  \n",
       "0  114709    862.0  \n",
       "1  113497   8844.0  \n",
       "2  113228  15602.0  \n",
       "3  113277    949.0  \n",
       "4  114319  11860.0  "
      ]
     },
     "execution_count": 58,
     "metadata": {},
     "output_type": "execute_result"
    }
   ],
   "source": [
    "movies_with_links = pd.merge(popular_movies, links, on='movieId')\n",
    "movies_with_links.head()"
   ]
  },
  {
   "cell_type": "code",
   "execution_count": 59,
   "id": "fa33c8ac",
   "metadata": {},
   "outputs": [],
   "source": [
    "def scrapper(imdbId):\n",
    "    id = str(int(imdbId))\n",
    "    n_zeroes = 7 - len(id)\n",
    "    new_id = \"0\" * n_zeroes + id\n",
    "    URL = f\"https://www.imdb.com/title/tt{new_id}/\"\n",
    "    request_header = {\n",
    "        'Content-Type': 'text/html; charset=UTF-8',\n",
    "        'User-Agent': 'Mozilla/5.0 (Windows NT 10.0; Win64; x64; rv:109.0) Gecko/20100101 Firefox/119.0',\n",
    "        'Accept-Encoding': 'gzip, deflate, br'}\n",
    "    \n",
    "    response = requests.get(URL, headers=request_header)\n",
    "    soup = BeautifulSoup(response.text, 'html.parser')\n",
    "    imdb_rating = soup.find('span', attrs={'class': 'sc-eb51e184-1 ljxVSS'})\n",
    "    return imdb_rating.text if imdb_rating else np.nan"
   ]
  },
  {
   "cell_type": "code",
   "execution_count": null,
   "id": "282eaa23",
   "metadata": {},
   "outputs": [],
   "source": [
    "movies_with_links['imdb_rating'] = movies_with_links['imdbId'].apply(lambda x: scrapper(x))\n",
    "movies_with_links.head()"
   ]
  },
  {
   "cell_type": "code",
   "execution_count": null,
   "id": "a78b0420",
   "metadata": {},
   "outputs": [],
   "source": [
    "highest_rated_movie = movies_with_links.loc[movies_with_links['imdb_rating'].astype(float).idxmax()]\n",
    "highest_rated_movie"
   ]
  },
  {
   "cell_type": "code",
   "execution_count": null,
   "id": "371d9031",
   "metadata": {},
   "outputs": [],
   "source": [
    "print(f\"The movie with the highest IMDb rating is: '{highest_rated_movie['title']}' with movieId: {highest_rated_movie['movieId']} \n",
    "        and an IMDb rating of {highest_rated_movie['imdb_rating']}\")"
   ]
  },
  {
   "cell_type": "markdown",
   "id": "c2039c58",
   "metadata": {},
   "source": [
    "# Mention the movieId of the \"Sci-Fi\" movie which has the highest IMDB rating."
   ]
  },
  {
   "cell_type": "code",
   "execution_count": null,
   "id": "000c3e68",
   "metadata": {},
   "outputs": [],
   "source": [
    "movies_with_links[movies_with_links['genres'].str.contains('Sci-Fi')]"
   ]
  },
  {
   "cell_type": "code",
   "execution_count": null,
   "id": "e54d4c18",
   "metadata": {},
   "outputs": [],
   "source": [
    "sci_fi_movies = movies_with_links[movies_with_links['genres'].str.contains('Sci-Fi')]\n",
    "sci_fi_movies.head()"
   ]
  },
  {
   "cell_type": "code",
   "execution_count": null,
   "id": "084947aa",
   "metadata": {},
   "outputs": [],
   "source": [
    "sci_fi_movies.loc[sci_fi_movies['imdb_rating'].astype(float).idxmax()]\n"
   ]
  },
  {
   "cell_type": "code",
   "execution_count": null,
   "id": "976719d3",
   "metadata": {},
   "outputs": [],
   "source": [
    "highest_rated_sci_fi_movie = sci_fi_movies.loc[sci_fi_movies['imdb_rating'].astype(float).idxmax()]\n",
    "highest_rated_sci_fi_movie"
   ]
  },
  {
   "cell_type": "code",
   "execution_count": null,
   "id": "4f0b38b9",
   "metadata": {},
   "outputs": [],
   "source": [
    "print(f\"The Sci-Fi movie with the highest IMDb rating is: '{highest_rated_sci_fi_movie['title']}' with movieId: {highest_rated_sci_fi_movie['movieId']} and an IMDb rating of {highest_rated_sci_fi_movie['imdb_rating']}\")\n"
   ]
  },
  {
   "cell_type": "code",
   "execution_count": null,
   "id": "94a32b44",
   "metadata": {},
   "outputs": [],
   "source": []
  }
 ],
 "metadata": {
  "kernelspec": {
   "display_name": "Python 3 (ipykernel)",
   "language": "python",
   "name": "python3"
  },
  "language_info": {
   "codemirror_mode": {
    "name": "ipython",
    "version": 3
   },
   "file_extension": ".py",
   "mimetype": "text/x-python",
   "name": "python",
   "nbconvert_exporter": "python",
   "pygments_lexer": "ipython3",
   "version": "3.10.9"
  }
 },
 "nbformat": 4,
 "nbformat_minor": 5
}
